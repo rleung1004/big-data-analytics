{
 "cells": [
  {
   "attachments": {},
   "cell_type": "markdown",
   "id": "e4fa474b",
   "metadata": {},
   "source": [
    "# Markdown titles are created by starting the line with a hash symbol.\n",
    "\n",
    "The following title uses HTML which you can also include in your markdown.\n",
    "<h3>This is Another Title</h3>\n",
    "This image is loaded using HTML.<br />\n",
    "<!-- This image exists in the Jupyter notebook root folder.\n",
    "     On my Windows machine this happens to be at c:/users/username/\n",
    "     You can also store the image there if you upload it at the\n",
    "     Jupyter Notebook tree listing. -->\n",
    "\n",
    "<img style=\"float: left;\" src=\"https://commons.bcit.ca/news/files/2020/05/Island-Princess_1200px-300x150.jpg\"  />"
   ]
  },
  {
   "cell_type": "code",
   "execution_count": 2,
   "id": "9905d711",
   "metadata": {},
   "outputs": [
    {
     "name": "stdout",
     "output_type": "stream",
     "text": [
      "  Week  Cost  Revenue\n",
      "0    1     8        6\n",
      "1    2    10       12\n",
      "2    3    12       14\n",
      "3    4    14       16\n"
     ]
    },
    {
     "data": {
      "text/html": [
       "<table style=\"display:inline;\" border=\"1\" class=\"dataframe\">\n",
       "  <thead>\n",
       "    <tr style=\"text-align: right;\">\n",
       "      <th></th>\n",
       "      <th>Week</th>\n",
       "      <th>Cost</th>\n",
       "      <th>Revenue</th>\n",
       "    </tr>\n",
       "  </thead>\n",
       "  <tbody>\n",
       "    <tr>\n",
       "      <th>0</th>\n",
       "      <td>1</td>\n",
       "      <td>8</td>\n",
       "      <td>6</td>\n",
       "    </tr>\n",
       "    <tr>\n",
       "      <th>1</th>\n",
       "      <td>2</td>\n",
       "      <td>10</td>\n",
       "      <td>12</td>\n",
       "    </tr>\n",
       "    <tr>\n",
       "      <th>2</th>\n",
       "      <td>3</td>\n",
       "      <td>12</td>\n",
       "      <td>14</td>\n",
       "    </tr>\n",
       "    <tr>\n",
       "      <th>3</th>\n",
       "      <td>4</td>\n",
       "      <td>14</td>\n",
       "      <td>16</td>\n",
       "    </tr>\n",
       "  </tbody>\n",
       "</table style=\"display:inline;\">"
      ]
     },
     "metadata": {},
     "output_type": "display_data"
    }
   ],
   "source": [
    "import pandas as pd\n",
    "from IPython.display import Image\n",
    "from IPython.display import display_html\n",
    "from IPython.core.display import display, HTML\n",
    "import matplotlib.pyplot as plt\n",
    "\n",
    "def display_side_by_side(*args):\n",
    "    html_str = ''\n",
    "    for item in args:\n",
    "        html_str+=item.to_html()\n",
    "    display_html(html_str.replace('table','table style=\"display:inline;\"'),raw=True)\n",
    "\n",
    "# Create and show budget dataframe.\n",
    "df = pd.DataFrame(columns=[\"Week\", \"Cost\", \"Revenue\"])\n",
    "df['Week']    = ['1','2','3','4']\n",
    "df['Cost']    = [8,10,12,14]\n",
    "df['Revenue'] = [6,12,14,16]\n",
    "print(df)\n",
    "#display_side_by_side(df,df)\n",
    "html_str = df.to_html()\n",
    "display_html(html_str.replace('table','table style=\"display:inline;\"'),raw=True)"
   ]
  },
  {
   "cell_type": "code",
   "execution_count": null,
   "id": "690f35d4",
   "metadata": {
    "pycharm": {
     "name": "#%%\n"
    }
   },
   "outputs": [],
   "source": []
  },
  {
   "cell_type": "code",
   "execution_count": null,
   "outputs": [],
   "source": [],
   "metadata": {
    "collapsed": false,
    "pycharm": {
     "name": "#%%\n"
    }
   }
  }
 ],
 "metadata": {
  "kernelspec": {
   "display_name": "Python 3",
   "language": "python",
   "name": "python3"
  },
  "language_info": {
   "codemirror_mode": {
    "name": "ipython",
    "version": 3
   },
   "file_extension": ".py",
   "mimetype": "text/x-python",
   "name": "python",
   "nbconvert_exporter": "python",
   "pygments_lexer": "ipython3",
   "version": "3.8.8"
  }
 },
 "nbformat": 4,
 "nbformat_minor": 5
}