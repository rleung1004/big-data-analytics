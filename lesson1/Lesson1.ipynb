{
 "cells": [
  {
   "cell_type": "markdown",
   "id": "e4fa474b",
   "metadata": {},
   "source": [
    "# Markdown titles are created by starting the line with a hash symbol.\n",
    "\n",
    "The following title uses HTML which you can also include in your markdown.\n",
    "<h3>This is Another Title</h3>\n",
    "This image is loaded using HTML.<br />\n",
    "<!-- This image exists in the Jupyter notebook root folder.\n",
    "     On my Windows machine this happens to be at c:/users/username/\n",
    "     You can also store the image there if you upload it at the\n",
    "     Jupyter Notebook tree listing. -->\n",
    "\n",
    "<img style=\"float: left;\" src=\"https://commons.bcit.ca/news/files/2020/05/Island-Princess_1200px-300x150.jpg\"  />"
   ]
  },
  {
   "cell_type": "code",
   "execution_count": 2,
   "id": "9905d711",
   "metadata": {},
   "outputs": [
    {
     "name": "stdout",
     "output_type": "stream",
     "text": [
      "  Week  Cost  Revenue\n",
      "0    1     8        6\n",
      "1    2    10       12\n",
      "2    3    12       14\n",
      "3    4    14       16\n"
     ]
    },
    {
     "data": {
      "text/html": [
       "<table style=\"display:inline;\" border=\"1\" class=\"dataframe\">\n",
       "  <thead>\n",
       "    <tr style=\"text-align: right;\">\n",
       "      <th></th>\n",
       "      <th>Week</th>\n",
       "      <th>Cost</th>\n",
       "      <th>Revenue</th>\n",
       "    </tr>\n",
       "  </thead>\n",
       "  <tbody>\n",
       "    <tr>\n",
       "      <th>0</th>\n",
       "      <td>1</td>\n",
       "      <td>8</td>\n",
       "      <td>6</td>\n",
       "    </tr>\n",
       "    <tr>\n",
       "      <th>1</th>\n",
       "      <td>2</td>\n",
       "      <td>10</td>\n",
       "      <td>12</td>\n",
       "    </tr>\n",
       "    <tr>\n",
       "      <th>2</th>\n",
       "      <td>3</td>\n",
       "      <td>12</td>\n",
       "      <td>14</td>\n",
       "    </tr>\n",
       "    <tr>\n",
       "      <th>3</th>\n",
       "      <td>4</td>\n",
       "      <td>14</td>\n",
       "      <td>16</td>\n",
       "    </tr>\n",
       "  </tbody>\n",
       "</table style=\"display:inline;\">"
      ]
     },
     "metadata": {},
     "output_type": "display_data"
    }
   ],
   "source": [
    "import pandas as pd\n",
    "from IPython.display import Image\n",
    "from IPython.display import display_html\n",
    "from IPython.core.display import display, HTML\n",
    "import matplotlib.pyplot as plt\n",
    "\n",
    "def display_side_by_side(*args):\n",
    "    html_str = ''\n",
    "    for item in args:\n",
    "        html_str+=item.to_html()\n",
    "    display_html(html_str.replace('table','table style=\"display:inline;\"'),raw=True)\n",
    "\n",
    "# Create and show budget dataframe.\n",
    "df = pd.DataFrame(columns=[\"Week\", \"Cost\", \"Revenue\"])\n",
    "df['Week']    = ['1','2','3','4']\n",
    "df['Cost']    = [8,10,12,14]\n",
    "df['Revenue'] = [6,12,14,16]\n",
    "print(df)\n",
    "#display_side_by_side(df,df)\n",
    "html_str = df.to_html()\n",
    "display_html(html_str.replace('table','table style=\"display:inline;\"'),raw=True)"
   ]
  },
  {
   "cell_type": "markdown",
   "id": "948b98e7",
   "metadata": {
    "pycharm": {
     "name": "#%%\n"
    }
   },
   "source": [
    "# Displaying Dataframes side by side"
   ]
  },
  {
   "cell_type": "code",
   "execution_count": 4,
   "id": "84b9e35b",
   "metadata": {
    "pycharm": {
     "name": "#%%\n"
    }
   },
   "outputs": [
    {
     "data": {
      "text/html": [
       "<table style=\"display:inline;\" border=\"1\" class=\"dataframe\">\n",
       "  <thead>\n",
       "    <tr style=\"text-align: right;\">\n",
       "      <th></th>\n",
       "      <th>Week</th>\n",
       "      <th>Cost</th>\n",
       "      <th>Revenue</th>\n",
       "    </tr>\n",
       "  </thead>\n",
       "  <tbody>\n",
       "    <tr>\n",
       "      <th>0</th>\n",
       "      <td>1</td>\n",
       "      <td>8</td>\n",
       "      <td>6</td>\n",
       "    </tr>\n",
       "    <tr>\n",
       "      <th>1</th>\n",
       "      <td>2</td>\n",
       "      <td>10</td>\n",
       "      <td>12</td>\n",
       "    </tr>\n",
       "    <tr>\n",
       "      <th>2</th>\n",
       "      <td>3</td>\n",
       "      <td>12</td>\n",
       "      <td>14</td>\n",
       "    </tr>\n",
       "    <tr>\n",
       "      <th>3</th>\n",
       "      <td>4</td>\n",
       "      <td>14</td>\n",
       "      <td>16</td>\n",
       "    </tr>\n",
       "  </tbody>\n",
       "</table style=\"display:inline;\"><table style=\"display:inline;\" border=\"1\" class=\"dataframe\">\n",
       "  <thead>\n",
       "    <tr style=\"text-align: right;\">\n",
       "      <th></th>\n",
       "      <th>Week</th>\n",
       "      <th>Cost</th>\n",
       "      <th>Revenue</th>\n",
       "    </tr>\n",
       "  </thead>\n",
       "  <tbody>\n",
       "    <tr>\n",
       "      <th>0</th>\n",
       "      <td>1</td>\n",
       "      <td>8</td>\n",
       "      <td>6</td>\n",
       "    </tr>\n",
       "    <tr>\n",
       "      <th>1</th>\n",
       "      <td>2</td>\n",
       "      <td>10</td>\n",
       "      <td>12</td>\n",
       "    </tr>\n",
       "    <tr>\n",
       "      <th>2</th>\n",
       "      <td>3</td>\n",
       "      <td>12</td>\n",
       "      <td>14</td>\n",
       "    </tr>\n",
       "    <tr>\n",
       "      <th>3</th>\n",
       "      <td>4</td>\n",
       "      <td>14</td>\n",
       "      <td>16</td>\n",
       "    </tr>\n",
       "  </tbody>\n",
       "</table style=\"display:inline;\">"
      ]
     },
     "metadata": {},
     "output_type": "display_data"
    }
   ],
   "source": [
    "from IPython.display import display_html\n",
    "\n",
    "\n",
    "def display_side_by_side(*args):\n",
    "    html_str = ''\n",
    "    for item in args:\n",
    "        html_str += item.to_html()\n",
    "    display_html(html_str.replace('table','table style=\"display:inline;\"'),raw=True)\n",
    "\n",
    "display_side_by_side(df,df)\n"
   ]
  },
  {
   "cell_type": "code",
   "execution_count": 6,
   "id": "c766c592",
   "metadata": {},
   "outputs": [
    {
     "data": {
      "image/png": "[encoded data removed]",
      "text/plain": [
       "<Figure size 432x93.6 with 2 Axes>"
      ]
     },
     "metadata": {
      "needs_background": "light"
     },
     "output_type": "display_data"
    }
   ],
   "source": [
    "# First chart.\n",
    "plt.figure(figsize=(6,1.3))\n",
    "plt.subplot(1, 2, 1) # 1 row. Two columns. 1st cell.\n",
    "plt.plot(df['Week'], df['Cost'], color='red')\n",
    "plt.ylim((6,16))\n",
    "\n",
    "# Second chart.\n",
    "plt.subplot(1, 2, 2) # 1 row. Two columns. 2nd cell.\n",
    "plt.plot(df['Week'], df['Revenue'], color='green')\n",
    "plt.ylim((6,16))\n",
    "\n",
    "# Show plots.\n",
    "plt.show()  "
   ]
  },
  {
   "cell_type": "code",
   "execution_count": 9,
   "id": "b7ad9332",
   "metadata": {},
   "outputs": [
    {
     "data": {
      "text/html": [
       "<h4>This text and image are rendered using html embedded in Python code.</h4>"
      ],
      "text/plain": [
       "<IPython.core.display.HTML object>"
      ]
     },
     "metadata": {},
     "output_type": "display_data"
    },
    {
     "data": {
      "text/html": [
       "<img src=\"files/Family.png\"/>"
      ],
      "text/plain": [
       "<IPython.core.display.Image object>"
      ]
     },
     "metadata": {},
     "output_type": "display_data"
    }
   ],
   "source": [
    "# We can use display() to show HTML from Python. \n",
    "# HTML() converts encoded content the raw content.\n",
    "display(HTML(\"<h4>This text and image are rendered using html embedded in Python code.</h4>\"))\n",
    "\n",
    "# This image is stored at the Jupyter notebook root folder.\n",
    "img=Image(url= \"files/Family.png\")\n",
    "display(img)  "
   ]
  },
  {
   "cell_type": "code",
   "execution_count": 10,
   "id": "ba33ead6",
   "metadata": {},
   "outputs": [
    {
     "data": {
      "text/html": [
       "<script>\n",
       "code_show=true; \n",
       "function code_toggle() {\n",
       " if (code_show){\n",
       " $('div.input').hide();\n",
       " } else {\n",
       " $('div.input').show();\n",
       " }\n",
       " code_show = !code_show\n",
       "} \n",
       "$( document ).ready(code_toggle);\n",
       "</script>\n",
       "<form action=\"javascript:code_toggle()\"><input type=\"submit\" value=\"Click here to toggle on/off the raw code.\"></form>"
      ],
      "text/plain": [
       "<IPython.core.display.HTML object>"
      ]
     },
     "execution_count": 10,
     "metadata": {},
     "output_type": "execute_result"
    }
   ],
   "source": [
    "from IPython.display import HTML\n",
    "\n",
    "HTML('''<script>\n",
    "code_show=true; \n",
    "function code_toggle() {\n",
    " if (code_show){\n",
    " $('div.input').hide();\n",
    " } else {\n",
    " $('div.input').show();\n",
    " }\n",
    " code_show = !code_show\n",
    "} \n",
    "$( document ).ready(code_toggle);\n",
    "</script>\n",
    "<form action=\"javascript:code_toggle()\"><input type=\"submit\" value=\"Click here to toggle on/off the raw code.\"></form>''')"
   ]
  },
  {
   "cell_type": "code",
   "execution_count": 17,
   "id": "9bd2f8e5",
   "metadata": {},
   "outputs": [
    {
     "data": {
      "application/vnd.jupyter.widget-view+json": {
       "model_id": "eeed4b355f93484fbc5459b168127c10",
       "version_major": 2,
       "version_minor": 0
      },
      "text/plain": [
       "Text(value='', description='Input Label:', placeholder='Input placeholder')"
      ]
     },
     "metadata": {},
     "output_type": "display_data"
    },
    {
     "data": {
      "application/vnd.jupyter.widget-view+json": {
       "model_id": "de28ae48509f4bbfad9b163420007ad1",
       "version_major": 2,
       "version_minor": 0
      },
      "text/plain": [
       "Button(description='Click Me!', style=ButtonStyle())"
      ]
     },
     "metadata": {},
     "output_type": "display_data"
    },
    {
     "name": "stdout",
     "output_type": "stream",
     "text": [
      "Ryan\n",
      "Ryan\n",
      "Ryan\n"
     ]
    }
   ],
   "source": [
    "from IPython.display import display\n",
    "from ipywidgets      import widgets\n",
    "from IPython.display import clear_output\n",
    "\n",
    "# Define and show text box.\n",
    "txtInput = widgets.Text(\n",
    "    value       = '',\n",
    "    placeholder = 'Input placeholder',\n",
    "    description = 'Input Label:',\n",
    "    disabled    = False\n",
    ")\n",
    "# Use the display() function to show the text box.\n",
    "display(txtInput)\n",
    "\n",
    "# Define and show button.\n",
    "from IPython.display import display\n",
    "button = widgets.Button(description=\"Click Me!\")\n",
    "\n",
    "# Use the display() function to show the button.\n",
    "display(button) \n",
    "\n",
    "# This handles the button click event.\n",
    "# We must include the ‘e’ parameter with event functions to ensure\n",
    "# that we can call them when desired in web frameworks.\n",
    "def on_button_clicked(e):\n",
    "    # Clear output to prevent incrementing lines of output.\n",
    "    # clear_output()\n",
    "    print(txtInput.value)\n",
    "\n",
    "# Create a listener for the button click event. This listener belongs after\n",
    "# the handler named on_button_clicked() for the event is defined.     \n",
    "button.on_click(on_button_clicked)"
   ]
  },
  {
   "cell_type": "code",
   "execution_count": 18,
   "id": "34210e80",
   "metadata": {},
   "outputs": [
    {
     "name": "stdout",
     "output_type": "stream",
     "text": [
      "Ryan Leung\n"
     ]
    }
   ],
   "source": [
    "from IPython.display import display\n",
    "from ipywidgets      import widgets\n",
    "from IPython.display import clear_output\n",
    "\n",
    "# Define and show text box.\n",
    "firstNameInput = widgets.Text(\n",
    "    value       = '',\n",
    "    placeholder = 'Input first name',\n",
    "    description = 'First Name:',\n",
    "    disabled    = False\n",
    ")\n",
    "\n",
    "lastNameInput = widgets.Text(\n",
    "    value       = '',\n",
    "    placeholder = 'Input last name',\n",
    "    description = 'Last Name:',\n",
    "    disabled    = False\n",
    ")\n",
    "\n",
    "# Use the display() function to show the text box.\n",
    "display(firstNameInput)\n",
    "display(lastNameInput)\n",
    "\n",
    "# Define and show button.\n",
    "from IPython.display import display\n",
    "button = widgets.Button(description=\"Submit full name\")\n",
    "\n",
    "# Use the display() function to show the button.\n",
    "display(button) \n",
    "\n",
    "# This handles the button click event.\n",
    "# We must include the ‘e’ parameter with event functions to ensure\n",
    "# that we can call them when desired in web frameworks.\n",
    "def on_button_clicked(e):\n",
    "    # Clear output to prevent incrementing lines of output.\n",
    "    clear_output()\n",
    "    print(firstNameInput.value, lastNameInput.value)\n",
    "\n",
    "# Create a listener for the button click event. This listener belongs after\n",
    "# the handler named on_button_clicked() for the event is defined.     \n",
    "button.on_click(on_button_clicked)"
   ]
  },
  {
   "cell_type": "code",
   "execution_count": 24,
   "id": "d26a4044",
   "metadata": {},
   "outputs": [
    {
     "data": {
      "application/vnd.jupyter.widget-view+json": {
       "model_id": "fa2864b907de4e3d9527ccf12914f541",
       "version_major": 2,
       "version_minor": 0
      },
      "text/plain": [
       "Text(value='', description='Stock:', placeholder='Stock name')"
      ]
     },
     "metadata": {},
     "output_type": "display_data"
    },
    {
     "data": {
      "application/vnd.jupyter.widget-view+json": {
       "model_id": "89980f5d54a341cbb54724ec5822a656",
       "version_major": 2,
       "version_minor": 0
      },
      "text/plain": [
       "Button(description='Click Me!', style=ButtonStyle())"
      ]
     },
     "metadata": {},
     "output_type": "display_data"
    }
   ],
   "source": [
    "from IPython.display import display\n",
    "from IPython.display import clear_output\n",
    "from ipywidgets import widgets\n",
    "\n",
    "# Define and show text box.\n",
    "txtInput = widgets.Text(\n",
    "    value='',\n",
    "    placeholder='Stock name',\n",
    "    description='Stock:',\n",
    "    disabled=False\n",
    ")\n",
    "display(txtInput, end=\"\")\n",
    "\n",
    "# Define and show button.\n",
    "from IPython.display import display\n",
    "\n",
    "button = widgets.Button(description=\"Click Me!\")\n",
    "display(button)  # Display() must be called to show the button.\n",
    "\n",
    "import pandas as pd\n",
    "import pandas_datareader.data as pdr\n",
    "import matplotlib.pyplot as plt\n",
    "from datetime import datetime\n",
    "\n",
    "def plotTimeSeries(stockName):\n",
    "    print(\"The stock is: \" + stockName)\n",
    "    end = datetime.now()\n",
    "\n",
    "    # Start date set to one year back\n",
    "    start = datetime(end.year - 1, end.month, end.day)\n",
    "    stock = pdr.DataReader(stockName, 'yahoo', start, end)\n",
    "\n",
    "    stock['Close'].plot()\n",
    "    plt.show()\n",
    "\n",
    "# This handles the button click event.\n",
    "# We must include the ‘e’ parameter with event functions to ensure\n",
    "# that we can call them when desired in web frameworks.\n",
    "def on_button_clicked(e):\n",
    "    # Clear output to prevent incrementing lines of output.\n",
    "    clear_output()\n",
    "    plotTimeSeries(txtInput.value)\n",
    "\n",
    "button.on_click(on_button_clicked)"
   ]
  },
  {
   "cell_type": "code",
   "execution_count": 25,
   "id": "d347cb5d",
   "metadata": {},
   "outputs": [
    {
     "name": "stdout",
     "output_type": "stream",
     "text": [
      "peaches\n"
     ]
    }
   ],
   "source": [
    "from ipywidgets import widgets\n",
    "\n",
    "# Create and show the dropdown.\n",
    "dropdownFruit = widgets.Dropdown(options = ['', 'apples', 'peaches', 'pears', 'plums'])\n",
    "display(dropdownFruit)\n",
    "\n",
    "# Handle the drop down selection event.\n",
    "def dropdownFruit_eventhandler(dd):\n",
    "    # Clearing the output prevents the display from growing incrementally\n",
    "    # every time this cell is run.\n",
    "    clear_output()\n",
    "    print(dd['new'])\n",
    "\n",
    "# Declare listener for dropdown.\n",
    "dropdownFruit.observe(dropdownFruit_eventhandler, 'value')"
   ]
  },
  {
   "cell_type": "code",
   "execution_count": 32,
   "id": "30287364",
   "metadata": {},
   "outputs": [
    {
     "name": "stdout",
     "output_type": "stream",
     "text": [
      "plums sales report:\n",
      "         Region      Revenue\n",
      "0       Alberta  36721.11040\n",
      "1            BC  33657.55508\n",
      "2      Manitoba  37435.66530\n",
      "3       Ontario  43303.99921\n",
      "4        Quebec  37381.77622\n",
      "5  Saskatchewan  27837.44425\n"
     ]
    }
   ],
   "source": [
    "# Show and hide the code.\n",
    "from IPython.display import HTML\n",
    "\n",
    "HTML('''<script>\n",
    "code_show=true; \n",
    "function code_toggle() {\n",
    " if (code_show){\n",
    " $('div.input').hide();\n",
    " } else {\n",
    "\n",
    "$('div.input').show();\n",
    " }\n",
    " code_show = !code_show\n",
    "} \n",
    "$( document ).ready(code_toggle);\n",
    "</script>\n",
    "<form action=\"javascript:code_toggle()\"><input type=\"submit\" value=\"Show / Hide Code\"></form>''')\n",
    "\n",
    "from IPython.display import Javascript, display\n",
    "from ipywidgets import widgets\n",
    "\n",
    "# Clear all outputs and runs all cells.\n",
    "def run_all(ev):\n",
    "    display(Javascript('IPython.notebook.execute_cells_below()'))\n",
    "\n",
    "button = widgets.Button(description=\"Run Report\")\n",
    "button.on_click(run_all)\n",
    "display(button)\n",
    "\n",
    "# Read data into a dataframe.\n",
    "import pandas as pd\n",
    "import numpy as np\n",
    "PATH = \"../datasets/\"\n",
    "FILE = \"fruit.csv\"\n",
    "df = pd.read_csv(PATH + FILE)\n",
    "\n",
    "# Create dropdown for identifying type of fruit.\n",
    "from ipywidgets import widgets\n",
    "from IPython.display import clear_output\n",
    "dropdown_year = widgets.Dropdown(options = ['','apples', 'peaches', 'pears', 'plums'])\n",
    "display(dropdown_year)\n",
    "pd.set_option('display.max_rows', df.shape[0]+1)\n",
    "\n",
    "def dropdown_year_eventhandler(dd):\n",
    "    # Clear all outputs in cell.\n",
    "    for i in range(1):\n",
    "        clear_output(wait=True)\n",
    "\n",
    "    # Create sub-query based on dropdown selection.\n",
    "    selection = dd['new']\n",
    "    print(selection + \" sales report:\")\n",
    "    resultDf    = df[df['Product']==selection]\n",
    "    \n",
    "    # Suppress copy warning.\n",
    "    pd.options.mode.chained_assignment = None  \n",
    "    resultDf['Revenue']= resultDf['Price']*resultDf['Quantity']\n",
    "    resultDf           = resultDf.groupby(['Region'])['Revenue'].sum().reset_index()\n",
    "    print(resultDf)\n",
    "\n",
    "# Call function to handle dropdown selection. \n",
    "dropdown_year.observe(dropdown_year_eventhandler, 'value')"
   ]
  },
  {
   "cell_type": "code",
   "execution_count": null,
   "id": "2be91a04",
   "metadata": {},
   "outputs": [],
   "source": []
  }
 ],
 "metadata": {
  "kernelspec": {
   "display_name": "Python 3 (ipykernel)",
   "language": "python",
   "name": "python3"
  },
  "language_info": {
   "codemirror_mode": {
    "name": "ipython",
    "version": 3
   },
   "file_extension": ".py",
   "mimetype": "text/x-python",
   "name": "python",
   "nbconvert_exporter": "python",
   "pygments_lexer": "ipython3",
   "version": "3.9.6"
  }
 },
 "nbformat": 4,
 "nbformat_minor": 5
}