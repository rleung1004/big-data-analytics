{
 "cells": [
  {
   "cell_type": "code",
   "execution_count": 8,
   "metadata": {
    "collapsed": true,
    "pycharm": {
     "name": "#%%\n"
    }
   },
   "outputs": [
    {
     "name": "stdout",
     "output_type": "stream",
     "text": [
      "    age  experience  salary\n",
      "0  25.0           1    50.0\n",
      "1  27.0           3     NaN\n",
      "2  29.0           5   110.0\n",
      "3  31.0           7   140.0\n",
      "4  33.0           9   170.0\n",
      "5   NaN          11   200.0\n",
      "[IterativeImputer] Completing matrix with shape (6, 3)\n",
      "[IterativeImputer] Ending imputation round 1/20, elapsed time 0.00\n",
      "[IterativeImputer] Change: 54.0, scaled tolerance: 0.2 \n",
      "[IterativeImputer] Ending imputation round 2/20, elapsed time 0.00\n",
      "[IterativeImputer] Change: 0.0, scaled tolerance: 0.2 \n",
      "[IterativeImputer] Early stopping criterion reached.\n",
      "    age  experience  salary\n",
      "0  25.0         1.0    50.0\n",
      "1  27.0         3.0    80.0\n",
      "2  29.0         5.0   110.0\n",
      "3  31.0         7.0   140.0\n",
      "4  33.0         9.0   170.0\n",
      "5  35.0        11.0   200.0\n"
     ]
    }
   ],
   "source": [
    "# Example 1\n",
    "import pandas as pd\n",
    "import numpy as np\n",
    "from sklearn.experimental import enable_iterative_imputer\n",
    "from sklearn.linear_model import LinearRegression\n",
    "from sklearn.impute       import IterativeImputer\n",
    "\n",
    "df = pd.DataFrame({\n",
    "    'age':[25,27,29,31,33,np.nan],\n",
    "    'experience':[1, 3,5,7,9,11],\n",
    "    'salary':[50, np.nan, 110, 140, 170, 200]\n",
    "})\n",
    "print(df)\n",
    "\n",
    "# Define regressor.\n",
    "lr      = LinearRegression()\n",
    "imputer = IterativeImputer(estimator = lr, verbose = 2, max_iter = 20)\n",
    "\n",
    "# Transform the data.\n",
    "imputedDataMatrix = imputer.fit_transform(df)\n",
    "\n",
    "# Convert imputed matrix back to dataframe.\n",
    "dfAdjusted = pd.DataFrame(imputedDataMatrix, columns=df.columns)\n",
    "print(dfAdjusted)"
   ]
  },
  {
   "cell_type": "code",
   "execution_count": 9,
   "outputs": [
    {
     "name": "stdout",
     "output_type": "stream",
     "text": [
      "           MomAge      DadAge     MomEduc  MomMarital    numlive       dobmm   gestation       weight  prenatalstart       orig.id\n",
      "count  200.000000  166.000000  188.000000  200.000000  200.00000  200.000000  200.000000   200.000000     195.000000  2.000000e+02\n",
      "mean    26.585000   30.060241   12.808511    1.385000    0.92000    6.540000   38.925000  3282.695000       2.400000  2.042214e+06\n",
      "std      6.484057    6.877895    2.785665    0.487816    1.09984    3.458062    2.581218   568.702033       1.493629  1.061349e+06\n",
      "min     14.000000   18.000000    2.000000    1.000000    0.00000    1.000000   23.000000   907.000000       0.000000  5.159300e+04\n",
      "25%     21.000000   24.000000   12.000000    1.000000    0.00000    3.000000   38.000000  2934.750000       2.000000  1.158653e+06\n",
      "50%     26.000000   29.500000   12.000000    1.000000    1.00000    7.000000   39.000000  3325.000000       2.000000  1.994176e+06\n",
      "75%     31.250000   35.000000   15.000000    2.000000    1.00000    9.250000   40.000000  3629.000000       3.000000  2.929115e+06\n",
      "max     42.000000   48.000000   17.000000    2.000000    5.00000   12.000000   47.000000  4825.000000       9.000000  3.916227e+06\n",
      "[IterativeImputer] Completing matrix with shape (200, 9)\n",
      "[IterativeImputer] Ending imputation round 1/20, elapsed time 0.00\n",
      "[IterativeImputer] Change: 12.853206579934753, scaled tolerance: 4.825 \n",
      "[IterativeImputer] Ending imputation round 2/20, elapsed time 0.01\n",
      "[IterativeImputer] Change: 0.47028719150132936, scaled tolerance: 4.825 \n",
      "[IterativeImputer] Early stopping criterion reached.\n",
      "     MomAge     DadAge    MomEduc  MomMarital  numlive  dobmm  gestation  weight  prenatalstart\n",
      "180    34.0  34.391684  13.441359         2.0      0.0    3.0       39.0  3081.0            3.0\n",
      "181    26.0  26.000000   6.000000         2.0      0.0    3.0       41.0  2730.0            2.0\n",
      "182    20.0  23.000000  12.000000         2.0      2.0    9.0       36.0  3487.0            1.0\n",
      "183    36.0  48.000000  16.000000         2.0      3.0    7.0       38.0  3175.0            2.0\n",
      "184    27.0  25.000000   8.000000         1.0      3.0    7.0       33.0  2807.0            3.0\n",
      "185    33.0  34.000000  13.000000         1.0      1.0    4.0       39.0  3459.0            2.0\n",
      "186    40.0  44.000000  12.000000         1.0      1.0    3.0       36.0  2693.0            2.0\n",
      "187    21.0  21.000000  14.000000         2.0      0.0   11.0       40.0  3945.0            2.0\n",
      "188    28.0  35.000000  14.000000         1.0      0.0    6.0       39.0  4825.0            2.0\n",
      "189    26.0  32.000000  15.000000         1.0      1.0   10.0       40.0  3742.0            3.0\n",
      "190    24.0  23.000000  11.000000         1.0      1.0    7.0       45.0  3200.0            3.0\n",
      "191    36.0  31.000000  12.000000         1.0      0.0    1.0       40.0  4082.0            2.0\n",
      "192    22.0  22.000000  11.000000         1.0      0.0    5.0       43.0  3317.0            4.0\n",
      "193    27.0  28.000000  16.000000         1.0      1.0    8.0       39.0  3317.0            2.0\n",
      "194    33.0  33.000000  16.000000         1.0      1.0    9.0       40.0  3600.0            2.0\n",
      "195    25.0  28.972867  12.000000         2.0      2.0    5.0       40.0  2858.0            2.0\n",
      "196    34.0  35.000000  11.000000         1.0      1.0    6.0       40.0  2530.0            2.0\n",
      "197    36.0  37.000000  16.000000         1.0      0.0    2.0       37.0  3204.0            1.0\n",
      "198    23.0  26.000000  11.000000         1.0      1.0    8.0       39.0  3572.0            2.0\n",
      "199    34.0  35.000000  12.000000         1.0      3.0    9.0       36.0  2552.0            2.0\n"
     ]
    }
   ],
   "source": [
    "# Exercise 1\n",
    "import pandas as pd\n",
    "import numpy as np\n",
    "from sklearn.experimental import enable_iterative_imputer\n",
    "from sklearn.linear_model import LinearRegression\n",
    "from sklearn.impute       import IterativeImputer\n",
    "\n",
    "df = pd.read_csv('../datasets/babysamp-98.txt', sep='\\t')\n",
    "\n",
    "# Show all columns.\n",
    "pd.set_option('display.max_columns', None)\n",
    "pd.set_option('display.width', 1000)\n",
    "print(df.describe())\n",
    "\n",
    "numericColumns = ['MomAge','DadAge','MomEduc',\n",
    "                  'MomMarital','numlive','dobmm','gestation',\n",
    "                  'weight','prenatalstart']\n",
    "\n",
    "# only obtain numerical columns\n",
    "df = df[numericColumns]\n",
    "\n",
    "# Define regressor\n",
    "regressor = LinearRegression()\n",
    "imputer = IterativeImputer(estimator=regressor, verbose=2, max_iter=20)\n",
    "\n",
    "imputed_data_matrix = imputer.fit_transform(df)\n",
    "\n",
    "df_adjusted = pd.DataFrame(imputed_data_matrix, columns=df.columns)\n",
    "\n",
    "print(df_adjusted.tail(20))"
   ],
   "metadata": {
    "collapsed": false,
    "pycharm": {
     "name": "#%%\n"
    }
   }
  },
  {
   "cell_type": "code",
   "execution_count": 2,
   "outputs": [
    {
     "name": "stdout",
     "output_type": "stream",
     "text": [
      "he is lazy\n"
     ]
    }
   ],
   "source": [
    "# Example 3 Speech-to-text\n",
    "import speech_recognition as sr\n",
    "PATH = \"../datasets/audiosamples1/elaine_0.wav\"\n",
    "\n",
    "r = sr.Recognizer()\n",
    "\n",
    "audioFile = sr.AudioFile(PATH)\n",
    "with audioFile as source:\n",
    "    audio  = r.record(source)\n",
    "    output = r.recognize_google(audio)\n",
    "    print(output)"
   ],
   "metadata": {
    "collapsed": false,
    "pycharm": {
     "name": "#%%\n"
    }
   }
  },
  {
   "cell_type": "code",
   "execution_count": 3,
   "outputs": [
    {
     "name": "stdout",
     "output_type": "stream",
     "text": [
      "and I really love her\n",
      "I'm going to ask her to marry me\n"
     ]
    }
   ],
   "source": [
    "# Example 4 Breaking the audio clip into sections with duration\n",
    "import speech_recognition as sr\n",
    "PATH = \"../datasets/audiosamples1/kramer_3.wav\"\n",
    "\n",
    "r = sr.Recognizer()\n",
    "\n",
    "jackhammer = sr.AudioFile(PATH)\n",
    "with jackhammer as source:\n",
    "    audio1 = r.record(source, duration=1.5)\n",
    "    audio2 = r.record(source, duration=1.2)\n",
    "\n",
    "    # Shows first section.\n",
    "    output1 = r.recognize_google(audio1)\n",
    "    print(output1)\n",
    "\n",
    "    # Shows second section.\n",
    "    output2 = r.recognize_google(audio2)\n",
    "    print(output2)"
   ],
   "metadata": {
    "collapsed": false,
    "pycharm": {
     "name": "#%%\n"
    }
   }
  },
  {
   "cell_type": "code",
   "execution_count": 1,
   "outputs": [
    {
     "name": "stdout",
     "output_type": "stream",
     "text": [
      "I'm going to ask her to marry me\n"
     ]
    }
   ],
   "source": [
    "# Example 5 Offset\n",
    "import speech_recognition as sr\n",
    "PATH = \"../datasets/audiosamples1/kramer_3.wav\"\n",
    "\n",
    "r = sr.Recognizer()\n",
    "\n",
    "jackhammer = sr.AudioFile(PATH)\n",
    "with jackhammer as source:\n",
    "    audio = r.record(source, offset=1.5, duration=1.5)\n",
    "    output = r.recognize_google(audio)\n",
    "    print(output)"
   ],
   "metadata": {
    "collapsed": false,
    "pycharm": {
     "name": "#%%\n"
    }
   }
  },
  {
   "cell_type": "code",
   "execution_count": 3,
   "outputs": [
    {
     "name": "stdout",
     "output_type": "stream",
     "text": [
      "Audio not recognized\n",
      "hello\n",
      "mrs. Ryan\n",
      "hello\n",
      "Audio not recognized\n",
      "this is still recording\n",
      "stop\n"
     ]
    }
   ],
   "source": [
    "# Example 6 Testing the Microphone\n",
    "# Exercise 2 record until \"stop\" is said\n",
    "import speech_recognition as sr\n",
    "r   = sr.Recognizer()\n",
    "mic = sr.Microphone()\n",
    "\n",
    "text = None\n",
    "while text != \"stop\":\n",
    "    try:\n",
    "        with mic as source:\n",
    "            # Add the following line to filter out background noise.\n",
    "            # r.adjust_for_ambient_noise(source)\n",
    "            audio = r.listen(source)\n",
    "\n",
    "        #output = r.recognize_google(audio)\n",
    "        text   = r.recognize_google(audio, language='en-IN')\n",
    "        print(text)\n",
    "    except:\n",
    "        print(\"Audio not recognized\")"
   ],
   "metadata": {
    "collapsed": false,
    "pycharm": {
     "name": "#%%\n"
    }
   }
  },
  {
   "cell_type": "code",
   "execution_count": null,
   "outputs": [],
   "source": [],
   "metadata": {
    "collapsed": false,
    "pycharm": {
     "name": "#%%\n"
    }
   }
  }
 ],
 "metadata": {
  "kernelspec": {
   "display_name": "Python 3",
   "language": "python",
   "name": "python3"
  },
  "language_info": {
   "codemirror_mode": {
    "name": "ipython",
    "version": 2
   },
   "file_extension": ".py",
   "mimetype": "text/x-python",
   "name": "python",
   "nbconvert_exporter": "python",
   "pygments_lexer": "ipython2",
   "version": "2.7.6"
  }
 },
 "nbformat": 4,
 "nbformat_minor": 0
}